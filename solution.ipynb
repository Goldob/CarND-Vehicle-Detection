{
 "cells": [
  {
   "cell_type": "code",
   "execution_count": 1,
   "metadata": {},
   "outputs": [
    {
     "name": "stdout",
     "output_type": "stream",
     "text": [
      "Loaded 8792 vehicle and 8968 non-vehicle images\n"
     ]
    }
   ],
   "source": [
    "import glob\n",
    "import matplotlib.image as mpimg\n",
    "\n",
    "def load_images(pattern):\n",
    "    pathnames = glob.glob(pattern)\n",
    "    return [mpimg.imread(x) for x in pathnames]\n",
    "\n",
    "vehicles = load_images('data/vehicles/*/*.png')\n",
    "non_vehicles = load_images('data/non-vehicles/*/*.png')\n",
    "\n",
    "print('Loaded {} vehicle and {} non-vehicle images'.format(len(vehicles), len(non_vehicles)))"
   ]
  },
  {
   "cell_type": "code",
   "execution_count": 10,
   "metadata": {},
   "outputs": [],
   "source": [
    "import numpy as np\n",
    "from sklearn.model_selection import train_test_split\n",
    "\n",
    "# Use constant seed so that the train-test split remains the same between consecutive executions\n",
    "SEED = 533343803\n",
    "\n",
    "X = np.vstack([vehicles, non_vehicles])\n",
    "y = np.hstack([np.ones(len(vehicles)), np.zeros(len(non_vehicles))])\n",
    "\n",
    "X_train, X_test, y_train, y_test = train_test_split(X, y, random_state=SEED)"
   ]
  },
  {
   "cell_type": "code",
   "execution_count": null,
   "metadata": {},
   "outputs": [],
   "source": []
  }
 ],
 "metadata": {
  "kernelspec": {
   "display_name": "Python 3",
   "language": "python",
   "name": "python3"
  },
  "language_info": {
   "codemirror_mode": {
    "name": "ipython",
    "version": 3
   },
   "file_extension": ".py",
   "mimetype": "text/x-python",
   "name": "python",
   "nbconvert_exporter": "python",
   "pygments_lexer": "ipython3",
   "version": "3.5.2"
  },
  "widgets": {
   "state": {},
   "version": "1.1.2"
  }
 },
 "nbformat": 4,
 "nbformat_minor": 2
}
