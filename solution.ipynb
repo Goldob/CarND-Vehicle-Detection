{
 "cells": [
  {
   "cell_type": "markdown",
   "metadata": {},
   "source": [
    "# Image classification\n",
    "\n",
    "First, we build an image classification pipeline to differentiate between vehicle and non-vehicle images.\n",
    "\n",
    "## Load images"
   ]
  },
  {
   "cell_type": "code",
   "execution_count": 1,
   "metadata": {},
   "outputs": [
    {
     "name": "stdout",
     "output_type": "stream",
     "text": [
      "Loaded 8792 vehicle and 8968 non-vehicle images\n"
     ]
    }
   ],
   "source": [
    "import glob\n",
    "import matplotlib.image as mpimg\n",
    "\n",
    "def load_images(pattern):\n",
    "    pathnames = glob.glob(pattern)\n",
    "    return [mpimg.imread(x) for x in pathnames]\n",
    "\n",
    "vehicles = load_images('data/vehicles/*/*.png')\n",
    "non_vehicles = load_images('data/non-vehicles/*/*.png')\n",
    "\n",
    "print('Loaded {} vehicle and {} non-vehicle images'.format(len(vehicles), len(non_vehicles)))"
   ]
  },
  {
   "cell_type": "markdown",
   "metadata": {},
   "source": [
    "## Extract features"
   ]
  },
  {
   "cell_type": "code",
   "execution_count": 2,
   "metadata": {},
   "outputs": [
    {
     "name": "stderr",
     "output_type": "stream",
     "text": [
      "/home/goldob/miniconda3/envs/carnd-term1/lib/python3.5/site-packages/skimage/feature/_hog.py:119: skimage_deprecation: Default value of `block_norm`==`L1` is deprecated and will be changed to `L2-Hys` in v0.15\n",
      "  'be changed to `L2-Hys` in v0.15', skimage_deprecation)\n"
     ]
    },
    {
     "name": "stdout",
     "output_type": "stream",
     "text": [
      "Number of features: 324\n"
     ]
    }
   ],
   "source": [
    "import cv2\n",
    "import numpy as np\n",
    "from skimage.feature import hog\n",
    "\n",
    "def extract_features(image, hog_orientations, hog_px_per_cell, hog_cells_per_block):\n",
    "    \"\"\"Extracts an unnormalized feature vectors from provided image\"\"\"\n",
    "    \n",
    "    grayscale = cv2.cvtColor(image, cv2.COLOR_RGB2GRAY)\n",
    "    \n",
    "    hog_features = hog(grayscale, hog_orientations, \n",
    "                       (hog_px_per_cell, hog_px_per_cell),\n",
    "                       (hog_cells_per_block, hog_cells_per_block))\n",
    "    \n",
    "    return hog_features\n",
    "\n",
    "# Feature extraction parameters\n",
    "HOG_ORIENTATIONS = 9\n",
    "HOG_PX_PER_CELL = 16\n",
    "HOG_CELLS_PER_BLOCK = 2\n",
    "\n",
    "vehicle_features = np.vstack([\n",
    "    extract_features(image, HOG_ORIENTATIONS, HOG_PX_PER_CELL, HOG_CELLS_PER_BLOCK)\n",
    "    for image in vehicles\n",
    "])\n",
    "\n",
    "non_vehicle_features = np.vstack([\n",
    "    extract_features(image, HOG_ORIENTATIONS, HOG_PX_PER_CELL, HOG_CELLS_PER_BLOCK)\n",
    "    for image in non_vehicles\n",
    "])\n",
    "\n",
    "print('Number of features: {}'.format(vehicle_features.shape[1]))"
   ]
  },
  {
   "cell_type": "markdown",
   "metadata": {},
   "source": [
    "## Split data into training & test sets"
   ]
  },
  {
   "cell_type": "code",
   "execution_count": 3,
   "metadata": {},
   "outputs": [],
   "source": [
    "from sklearn.model_selection import train_test_split\n",
    "\n",
    "# Use constant seed so that the train-test split remains the same between consecutive executions\n",
    "SEED = 533343803\n",
    "\n",
    "X = np.vstack([vehicle_features, non_vehicle_features])\n",
    "y = np.hstack([np.ones(len(vehicles)), np.zeros(len(non_vehicles))])\n",
    "\n",
    "X_train, X_test, y_train, y_test = train_test_split(X, y, random_state=SEED)"
   ]
  },
  {
   "cell_type": "markdown",
   "metadata": {},
   "source": [
    "## Normalize features"
   ]
  },
  {
   "cell_type": "code",
   "execution_count": 4,
   "metadata": {},
   "outputs": [],
   "source": [
    "from sklearn.preprocessing import StandardScaler\n",
    "\n",
    "scaler = StandardScaler().fit(X_train)\n",
    "\n",
    "X_train = scaler.transform(X_train)\n",
    "X_test = scaler.transform(X_test)"
   ]
  },
  {
   "cell_type": "markdown",
   "metadata": {},
   "source": [
    "## Train the classifier"
   ]
  },
  {
   "cell_type": "code",
   "execution_count": null,
   "metadata": {},
   "outputs": [],
   "source": [
    "from sklearn.svm import SVC\n",
    "\n",
    "clf = SVC(kernel='linear')\n",
    "clf.fit(X_train, y_train)\n",
    "\n",
    "print('Training accuracy: {:.3%}'.format(clf.score(X_train, y_train)))\n",
    "print('Test accuracy: {:.3%}'.format(clf.score(X_test, y_test)))"
   ]
  },
  {
   "cell_type": "markdown",
   "metadata": {},
   "source": [
    "# Vehicle detection\n",
    "\n",
    "Being able to correctly classify images, we can now search for cars on a larger scene.\n",
    "\n",
    "## Load reference image"
   ]
  },
  {
   "cell_type": "code",
   "execution_count": null,
   "metadata": {},
   "outputs": [],
   "source": [
    "import matplotlib.pyplot as plt\n",
    "%matplotlib inline\n",
    "\n",
    "# Divide by 255 to normalize pixel values\n",
    "image = mpimg.imread('test_images/test1.jpg') / 255\n",
    "\n",
    "plt.imshow(image)\n",
    "plt.show()"
   ]
  },
  {
   "cell_type": "markdown",
   "metadata": {},
   "source": [
    "## Run a sliding window through the scene"
   ]
  },
  {
   "cell_type": "code",
   "execution_count": null,
   "metadata": {},
   "outputs": [],
   "source": [
    "def draw_boxes(img, bboxes, color=(0, 0, 255), thick=6):\n",
    "    \"\"\"Draw bounding boxes for all window positions\"\"\"\n",
    "    \n",
    "    # Make a copy of the image\n",
    "    imcopy = np.copy(img)\n",
    "    # Iterate through the bounding boxes\n",
    "    for bbox in bboxes:\n",
    "        # Draw a rectangle given bbox coordinates\n",
    "        cv2.rectangle(imcopy, bbox[0], bbox[1], color, thick)\n",
    "    # Return the image copy with boxes drawn\n",
    "    return imcopy\n",
    "    \n",
    "def slide_window(img, x_start_stop=[None, None], y_start_stop=[None, None], \n",
    "                    xy_window=(64, 64), xy_overlap=(0.5, 0.5)):\n",
    "    \"\"\"Compute positions of a sliding window with given parameters\"\"\"\n",
    "    \n",
    "    # If x and/or y start/stop positions not defined, set to image size\n",
    "    if x_start_stop[0] == None: x_start_stop[0] = 0\n",
    "    if y_start_stop[0] == None: y_start_stop[0] = 0\n",
    "    if x_start_stop[1] == None: x_start_stop[1] = img.shape[1]\n",
    "    if y_start_stop[1] == None: y_start_stop[1] = img.shape[0]\n",
    "    \n",
    "    # Compute the span of the region to be searched\n",
    "    x_span = x_start_stop[1] - x_start_stop[0]\n",
    "    y_span = y_start_stop[1] - y_start_stop[0]\n",
    "    \n",
    "    # Compute the number of pixels per step in x/y\n",
    "    x_pix_per_step = int(xy_window[0] * (1 - xy_overlap[0]))\n",
    "    y_pix_per_step = int(xy_window[1] * (1 - xy_overlap[1]))\n",
    "    \n",
    "    # Compute the number of windows in x/y\n",
    "    x_windows = int(1 + ((x_span - xy_window[0]) / x_pix_per_step))\n",
    "    y_windows = int(1 + ((y_span - xy_window[1]) / y_pix_per_step))\n",
    "    \n",
    "    # Initialize a list to append window positions to\n",
    "    window_list = []\n",
    "    # Loop through finding x and y window positions\n",
    "    for ny in range(y_windows):\n",
    "        for nx in range(x_windows):\n",
    "\n",
    "            # Calculate each window position\n",
    "            x1 = x_start_stop[0] + nx*x_pix_per_step\n",
    "            y1 = y_start_stop[0] + ny*y_pix_per_step\n",
    "            \n",
    "            x2 = x1 + xy_window[0]\n",
    "            y2 = y1 + xy_window[1]\n",
    "            \n",
    "            # Append window position to list\n",
    "            window_list.append(((x1, y1), (x2, y2)))\n",
    "            \n",
    "    # Return the list of windows\n",
    "    return window_list\n",
    "\n",
    "bboxes = slide_window(image)\n",
    "bboxes_image = draw_boxes(image, bboxes)\n",
    "\n",
    "plt.imshow(bboxes_image)\n",
    "plt.show()"
   ]
  }
 ],
 "metadata": {
  "kernelspec": {
   "display_name": "Python 3",
   "language": "python",
   "name": "python3"
  },
  "language_info": {
   "codemirror_mode": {
    "name": "ipython",
    "version": 3
   },
   "file_extension": ".py",
   "mimetype": "text/x-python",
   "name": "python",
   "nbconvert_exporter": "python",
   "pygments_lexer": "ipython3",
   "version": "3.5.2"
  },
  "widgets": {
   "state": {},
   "version": "1.1.2"
  }
 },
 "nbformat": 4,
 "nbformat_minor": 2
}
