{
 "cells": [
  {
   "cell_type": "markdown",
   "metadata": {},
   "source": [
    "## Load images"
   ]
  },
  {
   "cell_type": "code",
   "execution_count": null,
   "metadata": {},
   "outputs": [],
   "source": [
    "import glob\n",
    "import matplotlib.image as mpimg\n",
    "\n",
    "def load_images(pattern):\n",
    "    pathnames = glob.glob(pattern)\n",
    "    return [mpimg.imread(x) for x in pathnames]\n",
    "\n",
    "vehicles = load_images('data/vehicles/*/*.png')\n",
    "non_vehicles = load_images('data/non-vehicles/*/*.png')\n",
    "\n",
    "print('Loaded {} vehicle and {} non-vehicle images'.format(len(vehicles), len(non_vehicles)))"
   ]
  },
  {
   "cell_type": "markdown",
   "metadata": {},
   "source": [
    "## Generate training & test datasets"
   ]
  },
  {
   "cell_type": "code",
   "execution_count": null,
   "metadata": {},
   "outputs": [],
   "source": [
    "import numpy as np\n",
    "from sklearn.model_selection import train_test_split\n",
    "\n",
    "# Use constant seed so that the train-test split remains the same between consecutive executions\n",
    "SEED = 533343803\n",
    "\n",
    "X = np.vstack([vehicles, non_vehicles])\n",
    "y = np.hstack([np.ones(len(vehicles)), np.zeros(len(non_vehicles))])\n",
    "\n",
    "X_train, X_test, y_train, y_test = train_test_split(X, y, random_state=SEED)"
   ]
  },
  {
   "cell_type": "markdown",
   "metadata": {},
   "source": [
    "## Extract features"
   ]
  },
  {
   "cell_type": "code",
   "execution_count": null,
   "metadata": {},
   "outputs": [],
   "source": [
    "import cv2\n",
    "from skimage.feature import hog\n",
    "\n",
    "def extract_features(image, hog_orientations, hog_px_per_cell, hog_cells_per_block):\n",
    "    \"\"\"Extracts an unnormalized feature vector from provided image\"\"\"\n",
    "    \n",
    "    grayscale = cv2.cvtColor(image, cv2.COLOR_RGB2GRAY)\n",
    "    \n",
    "    hog_features = hog(grayscale, hog_orientations, \n",
    "                       (hog_px_per_cell, hog_px_per_cell),\n",
    "                       (hog_cells_per_block, hog_cells_per_block))\n",
    "    \n",
    "    return hog_features\n",
    "\n",
    "# Feature extraction parameters\n",
    "HOG_ORIENTATIONS = 9\n",
    "HOG_PX_PER_CELL = 16\n",
    "HOG_CELLS_PER_BLOCK = 2\n",
    "\n",
    "n_features = extract_features(X_train[0],\n",
    "                              HOG_ORIENTATIONS,\n",
    "                              HOG_PX_PER_CELL,\n",
    "                              HOG_CELLS_PER_BLOCK).shape[0]\n",
    "\n",
    "print('Number of features: {}'.format(n_features))"
   ]
  }
 ],
 "metadata": {
  "kernelspec": {
   "display_name": "Python 3",
   "language": "python",
   "name": "python3"
  },
  "language_info": {
   "codemirror_mode": {
    "name": "ipython",
    "version": 3
   },
   "file_extension": ".py",
   "mimetype": "text/x-python",
   "name": "python",
   "nbconvert_exporter": "python",
   "pygments_lexer": "ipython3",
   "version": "3.5.2"
  },
  "widgets": {
   "state": {},
   "version": "1.1.2"
  }
 },
 "nbformat": 4,
 "nbformat_minor": 2
}
