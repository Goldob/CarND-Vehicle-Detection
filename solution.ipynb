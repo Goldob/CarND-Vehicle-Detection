{
 "cells": [
  {
   "cell_type": "markdown",
   "metadata": {},
   "source": [
    "## Load images"
   ]
  },
  {
   "cell_type": "code",
   "execution_count": 1,
   "metadata": {},
   "outputs": [
    {
     "name": "stdout",
     "output_type": "stream",
     "text": [
      "Loaded 8792 vehicle and 8968 non-vehicle images\n"
     ]
    }
   ],
   "source": [
    "import glob\n",
    "import matplotlib.image as mpimg\n",
    "\n",
    "def load_images(pattern):\n",
    "    pathnames = glob.glob(pattern)\n",
    "    return [mpimg.imread(x) for x in pathnames]\n",
    "\n",
    "vehicles = load_images('data/vehicles/*/*.png')\n",
    "non_vehicles = load_images('data/non-vehicles/*/*.png')\n",
    "\n",
    "print('Loaded {} vehicle and {} non-vehicle images'.format(len(vehicles), len(non_vehicles)))"
   ]
  },
  {
   "cell_type": "markdown",
   "metadata": {},
   "source": [
    "## Extract features"
   ]
  },
  {
   "cell_type": "code",
   "execution_count": 2,
   "metadata": {},
   "outputs": [
    {
     "name": "stderr",
     "output_type": "stream",
     "text": [
      "/home/goldob/miniconda3/envs/carnd-term1/lib/python3.5/site-packages/skimage/feature/_hog.py:119: skimage_deprecation: Default value of `block_norm`==`L1` is deprecated and will be changed to `L2-Hys` in v0.15\n",
      "  'be changed to `L2-Hys` in v0.15', skimage_deprecation)\n"
     ]
    },
    {
     "name": "stdout",
     "output_type": "stream",
     "text": [
      "Number of features: 324\n"
     ]
    }
   ],
   "source": [
    "import cv2\n",
    "import numpy as np\n",
    "from skimage.feature import hog\n",
    "\n",
    "def extract_features(image, hog_orientations, hog_px_per_cell, hog_cells_per_block):\n",
    "    \"\"\"Extracts an unnormalized feature vectors from provided image\"\"\"\n",
    "    \n",
    "    grayscale = cv2.cvtColor(image, cv2.COLOR_RGB2GRAY)\n",
    "    \n",
    "    hog_features = hog(grayscale, hog_orientations, \n",
    "                       (hog_px_per_cell, hog_px_per_cell),\n",
    "                       (hog_cells_per_block, hog_cells_per_block))\n",
    "    \n",
    "    return hog_features\n",
    "\n",
    "# Feature extraction parameters\n",
    "HOG_ORIENTATIONS = 9\n",
    "HOG_PX_PER_CELL = 16\n",
    "HOG_CELLS_PER_BLOCK = 2\n",
    "\n",
    "vehicle_features = np.vstack([\n",
    "    extract_features(image, HOG_ORIENTATIONS, HOG_PX_PER_CELL, HOG_CELLS_PER_BLOCK)\n",
    "    for image in vehicles\n",
    "])\n",
    "\n",
    "non_vehicle_features = np.vstack([\n",
    "    extract_features(image, HOG_ORIENTATIONS, HOG_PX_PER_CELL, HOG_CELLS_PER_BLOCK)\n",
    "    for image in non_vehicles\n",
    "])\n",
    "\n",
    "print('Number of features: {}'.format(vehicle_features.shape[1]))"
   ]
  },
  {
   "cell_type": "markdown",
   "metadata": {},
   "source": [
    "## Split data into training & test sets"
   ]
  },
  {
   "cell_type": "code",
   "execution_count": 3,
   "metadata": {},
   "outputs": [],
   "source": [
    "from sklearn.model_selection import train_test_split\n",
    "\n",
    "# Use constant seed so that the train-test split remains the same between consecutive executions\n",
    "SEED = 533343803\n",
    "\n",
    "X = np.vstack([vehicle_features, non_vehicle_features])\n",
    "y = np.hstack([np.ones(len(vehicles)), np.zeros(len(non_vehicles))])\n",
    "\n",
    "X_train, X_test, y_train, y_test = train_test_split(X, y, random_state=SEED)"
   ]
  },
  {
   "cell_type": "markdown",
   "metadata": {},
   "source": [
    "## Normalize features"
   ]
  },
  {
   "cell_type": "code",
   "execution_count": 4,
   "metadata": {},
   "outputs": [],
   "source": [
    "from sklearn.preprocessing import StandardScaler\n",
    "\n",
    "scaler = StandardScaler().fit(X_train)\n",
    "\n",
    "X_train = scaler.transform(X_train)\n",
    "X_test = scaler.transform(X_test)"
   ]
  }
 ],
 "metadata": {
  "kernelspec": {
   "display_name": "Python 3",
   "language": "python",
   "name": "python3"
  },
  "language_info": {
   "codemirror_mode": {
    "name": "ipython",
    "version": 3
   },
   "file_extension": ".py",
   "mimetype": "text/x-python",
   "name": "python",
   "nbconvert_exporter": "python",
   "pygments_lexer": "ipython3",
   "version": "3.5.2"
  },
  "widgets": {
   "state": {},
   "version": "1.1.2"
  }
 },
 "nbformat": 4,
 "nbformat_minor": 2
}
